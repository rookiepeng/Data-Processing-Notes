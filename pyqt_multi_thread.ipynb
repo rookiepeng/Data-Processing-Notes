{
 "cells": [
  {
   "cell_type": "code",
   "execution_count": 5,
   "metadata": {},
   "outputs": [],
   "source": [
    "from PyQt5.QtCore import QThread\n",
    "from PyQt5.QtWidgets import QApplication, QLabel, QWidget, QGridLayout\n",
    "import sys\n",
    "from PyQt5.QtCore import QThread, QObject, pyqtSignal, pyqtSlot\n",
    "import time\n",
    "# import worker"
   ]
  },
  {
   "cell_type": "code",
   "execution_count": 6,
   "metadata": {},
   "outputs": [],
   "source": [
    "class Worker(QObject):\n",
    "    finished = pyqtSignal()\n",
    "    intReady = pyqtSignal(int)\n",
    "\n",
    "\n",
    "    @pyqtSlot()\n",
    "    def procCounter(self): # A slot takes no params\n",
    "        for i in range(1, 100):\n",
    "            time.sleep(1)\n",
    "            self.intReady.emit(i)\n",
    "\n",
    "        self.finished.emit()"
   ]
  },
  {
   "cell_type": "code",
   "execution_count": 7,
   "metadata": {},
   "outputs": [],
   "source": [
    "class Form(QWidget):\n",
    "\n",
    "    def __init__(self):\n",
    "       super().__init__()\n",
    "       self.label = QLabel(\"0\")\n",
    "    \n",
    "       # 1 - create Worker and Thread inside the Form\n",
    "       self.obj = Worker()  # no parent!\n",
    "       self.thread = QThread()  # no parent!\n",
    "    \n",
    "       # 2 - Connect Worker`s Signals to Form method slots to post data.\n",
    "       self.obj.intReady.connect(self.onIntReady)\n",
    "    \n",
    "       # 3 - Move the Worker object to the Thread object\n",
    "       self.obj.moveToThread(self.thread)\n",
    "    \n",
    "       # 4 - Connect Worker Signals to the Thread slots\n",
    "       self.obj.finished.connect(self.thread.quit)\n",
    "    \n",
    "       # 5 - Connect Thread started signal to Worker operational slot method\n",
    "       self.thread.started.connect(self.obj.procCounter)\n",
    "    \n",
    "       # * - Thread finished signal will close the app if you want!\n",
    "       self.thread.finished.connect(app.exit)\n",
    "    \n",
    "       # 6 - Start the thread\n",
    "       self.thread.start()\n",
    "    \n",
    "       # 7 - Start the form\n",
    "       self.initUI()\n",
    "    \n",
    "    \n",
    "    def initUI(self):\n",
    "        grid = QGridLayout()\n",
    "        self.setLayout(grid)\n",
    "        grid.addWidget(self.label,0,0)\n",
    "    \n",
    "        self.move(300, 150)\n",
    "        self.setWindowTitle('thread test')\n",
    "        self.show()\n",
    "    \n",
    "    def onIntReady(self, i):\n",
    "        self.label.setText(\"{}\".format(i))\n",
    "        #print(i)"
   ]
  },
  {
   "cell_type": "code",
   "execution_count": null,
   "metadata": {},
   "outputs": [],
   "source": [
    "app = QApplication(sys.argv)\n",
    "\n",
    "form = Form()\n",
    "\n",
    "sys.exit(app.exec_())"
   ]
  },
  {
   "cell_type": "code",
   "execution_count": null,
   "metadata": {},
   "outputs": [],
   "source": []
  }
 ],
 "metadata": {
  "kernelspec": {
   "display_name": "Python 3",
   "language": "python",
   "name": "python3"
  },
  "language_info": {
   "codemirror_mode": {
    "name": "ipython",
    "version": 3
   },
   "file_extension": ".py",
   "mimetype": "text/x-python",
   "name": "python",
   "nbconvert_exporter": "python",
   "pygments_lexer": "ipython3",
   "version": "3.7.1"
  },
  "varInspector": {
   "cols": {
    "lenName": 16,
    "lenType": 16,
    "lenVar": 40
   },
   "kernels_config": {
    "python": {
     "delete_cmd_postfix": "",
     "delete_cmd_prefix": "del ",
     "library": "var_list.py",
     "varRefreshCmd": "print(var_dic_list())"
    },
    "r": {
     "delete_cmd_postfix": ") ",
     "delete_cmd_prefix": "rm(",
     "library": "var_list.r",
     "varRefreshCmd": "cat(var_dic_list()) "
    }
   },
   "types_to_exclude": [
    "module",
    "function",
    "builtin_function_or_method",
    "instance",
    "_Feature"
   ],
   "window_display": false
  }
 },
 "nbformat": 4,
 "nbformat_minor": 2
}
